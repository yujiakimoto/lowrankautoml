{
 "cells": [
  {
   "cell_type": "code",
   "execution_count": 1,
   "metadata": {},
   "outputs": [],
   "source": [
    "import pandas as pd\n",
    "import numpy as np"
   ]
  },
  {
   "cell_type": "code",
   "execution_count": 2,
   "metadata": {
    "scrolled": true
   },
   "outputs": [],
   "source": [
    "import sys\n",
    "sys.path.append('../automl')\n",
    "\n",
    "from auto_learner import AutoLearner"
   ]
  },
  {
   "cell_type": "code",
   "execution_count": 4,
   "metadata": {},
   "outputs": [],
   "source": [
    "data = pd.read_csv('dataset_8_preprocessed.csv', header=None).values\n",
    "features = data[:,0:-1]\n",
    "labels = data[:,-1]"
   ]
  },
  {
   "cell_type": "code",
   "execution_count": 5,
   "metadata": {
    "scrolled": true
   },
   "outputs": [
    {
     "name": "stderr",
     "output_type": "stream",
     "text": [
      "/Users/craig/anaconda3/lib/python3.6/site-packages/sklearn/linear_model/stochastic_gradient.py:117: DeprecationWarning: n_iter parameter is deprecated in 0.19 and will be removed in 0.21. Use max_iter and tol instead.\n",
      "  DeprecationWarning)\n",
      "/Users/craig/anaconda3/lib/python3.6/site-packages/sklearn/linear_model/stochastic_gradient.py:117: DeprecationWarning: n_iter parameter is deprecated in 0.19 and will be removed in 0.21. Use max_iter and tol instead.\n",
      "  DeprecationWarning)\n",
      "/Users/craig/anaconda3/lib/python3.6/site-packages/sklearn/linear_model/stochastic_gradient.py:117: DeprecationWarning: n_iter parameter is deprecated in 0.19 and will be removed in 0.21. Use max_iter and tol instead.\n",
      "  DeprecationWarning)\n",
      "/Users/craig/anaconda3/lib/python3.6/site-packages/sklearn/linear_model/stochastic_gradient.py:117: DeprecationWarning: n_iter parameter is deprecated in 0.19 and will be removed in 0.21. Use max_iter and tol instead.\n",
      "  DeprecationWarning)\n",
      "/Users/craig/anaconda3/lib/python3.6/site-packages/sklearn/linear_model/stochastic_gradient.py:117: DeprecationWarning: n_iter parameter is deprecated in 0.19 and will be removed in 0.21. Use max_iter and tol instead.\n",
      "  DeprecationWarning)\n",
      "/Users/craig/anaconda3/lib/python3.6/site-packages/sklearn/linear_model/stochastic_gradient.py:117: DeprecationWarning: n_iter parameter is deprecated in 0.19 and will be removed in 0.21. Use max_iter and tol instead.\n",
      "  DeprecationWarning)\n",
      "/Users/craig/anaconda3/lib/python3.6/site-packages/sklearn/linear_model/stochastic_gradient.py:117: DeprecationWarning: n_iter parameter is deprecated in 0.19 and will be removed in 0.21. Use max_iter and tol instead.\n",
      "  DeprecationWarning)\n",
      "/Users/craig/anaconda3/lib/python3.6/site-packages/sklearn/linear_model/stochastic_gradient.py:117: DeprecationWarning: n_iter parameter is deprecated in 0.19 and will be removed in 0.21. Use max_iter and tol instead.\n",
      "  DeprecationWarning)\n",
      "/Users/craig/anaconda3/lib/python3.6/site-packages/sklearn/linear_model/stochastic_gradient.py:117: DeprecationWarning: n_iter parameter is deprecated in 0.19 and will be removed in 0.21. Use max_iter and tol instead.\n",
      "  DeprecationWarning)\n",
      "/Users/craig/anaconda3/lib/python3.6/site-packages/sklearn/linear_model/stochastic_gradient.py:117: DeprecationWarning: n_iter parameter is deprecated in 0.19 and will be removed in 0.21. Use max_iter and tol instead.\n",
      "  DeprecationWarning)\n",
      "../automl/low_rank_models.py:30: FutureWarning: `rcond` parameter will change to the default of machine precision times ``max(M, N)`` where M and N are the input matrix dimensions.\n",
      "To use the future default and silence this warning we advise to pass `rcond=None`, to keep using the old, explicitly pass `rcond=-1`.\n",
      "  x = np.linalg.lstsq(np.matrix.transpose(Y[:, known_indices]), np.matrix.transpose(a[:, known_indices]))[0].T\n"
     ]
    },
    {
     "name": "stdout",
     "output_type": "stream",
     "text": [
      "kNN finished (k=13, shape=(345, 5))\n",
      "kNN finished (k=3, shape=(345, 5))\n",
      "kNN finished (k=6, shape=(345, 5))\n",
      "LinearSVM finished (C=0.75, shape=(345, 5))\n",
      "kNN finished (k=7, shape=(345, 5))\n"
     ]
    },
    {
     "name": "stderr",
     "output_type": "stream",
     "text": [
      "WARNING:smac.intensification.intensification.Intensifier:Challenger was the same as the current incumbent; Skipping challenger\n"
     ]
    },
    {
     "name": "stdout",
     "output_type": "stream",
     "text": [
      "kNN finished (k=11, shape=(345, 5))\n",
      "kNN finished (k=13, shape=(345, 5))\n",
      "LinearSVM finished (C=0.5409622191192307, shape=(345, 5))\n",
      "CART finished (min_samples_split=0.001, shape=(345, 5))\n",
      "CART finished (min_samples_split=0.00314171995319064, shape=(345, 5))\n",
      "CART finished (min_samples_split=0.0036582624792167824, shape=(345, 5))\n",
      "CART finished (min_samples_split=0.003513753307631745, shape=(345, 5))\n",
      "LinearSVM finished (C=0.8890850188818187, shape=(345, 5))\n",
      "CART finished (min_samples_split=0.008249889509597923, shape=(345, 5))\n",
      "CART finished (min_samples_split=0.008024515983158259, shape=(345, 5))\n",
      "CART finished (min_samples_split=0.0062387538004340945, shape=(345, 5))\n",
      "CART finished (min_samples_split=0.0027100110955989875, shape=(345, 5))\n",
      "CART finished (min_samples_split=0.008775534859652384, shape=(345, 5))\n",
      "CART finished (min_samples_split=0.007337899969732696, shape=(345, 5))\n",
      "LinearSVM finished (C=0.9746545188928326, shape=(345, 5))\n",
      "CART finished (min_samples_split=0.001, shape=(345, 5))\n",
      "LinearSVM finished (C=1.6934240882679044, shape=(345, 5))\n",
      "LinearSVM finished (C=0.6734528496911161, shape=(345, 5))\n",
      "LinearSVM finished (C=1.3411230381140806, shape=(345, 5))\n",
      "LinearSVM finished (C=0.34703410102506194, shape=(345, 5))\n",
      "LinearSVM finished (C=0.488883141328918, shape=(345, 5))\n",
      "LinearSVM finished (C=0.4603466685662987, shape=(345, 5))\n",
      "LinearSVM finished (C=0.75, shape=(345, 5))\n",
      "kNN finished (k=13, shape=(345, 5))\n",
      "CART finished (min_samples_split=0.001, shape=(345, 5))\n",
      "LinearSVM finished (C=0.75, shape=(345, 5))\n",
      "Logistic Regression finished (C=1.0, shape=(345, 3))\n",
      "Logistic Regression finished (C=0.5409622191192307, shape=(345, 3))\n",
      "Logistic Regression finished (C=0.8890850188818187, shape=(345, 3))\n",
      "Logistic Regression finished (C=0.9746545188928326, shape=(345, 3))\n",
      "Logistic Regression finished (C=1.6934240882679044, shape=(345, 3))\n",
      "Logistic Regression finished (C=0.6734528496911161, shape=(345, 3))\n",
      "Logistic Regression finished (C=1.3411230381140806, shape=(345, 3))\n",
      "Logistic Regression finished (C=1.756581170310755, shape=(345, 3))\n",
      "Logistic Regression finished (C=0.488883141328918, shape=(345, 3))\n",
      "Logistic Regression finished (C=1.1448464148397057, shape=(345, 3))\n",
      "Logistic Regression finished (C=1.6934240882679044, shape=(345, 3))\n",
      "Logistic Regression finished (C=1.6934240882679044, shape=(345, 3))\n"
     ]
    }
   ],
   "source": [
    "learner = AutoLearner(selected_algorithms='less', selected_hyperparameters='less', n_cores=2)\n",
    "learner.fit(features, labels)"
   ]
  },
  {
   "cell_type": "code",
   "execution_count": 6,
   "metadata": {},
   "outputs": [
    {
     "name": "stdout",
     "output_type": "stream",
     "text": [
      "kNN finished (k=13, shape=(345, 5))\n",
      "CART finished (min_samples_split=0.001, shape=(345, 5))\n",
      "LinearSVM finished (C=0.75, shape=(345, 5))\n",
      "Logistic Regression finished (C=1.6934240883, shape=(345, 3))\n",
      "Logistic Regression finished (C=0.37100087446545293, shape=(345, 3))\n",
      "Logistic Regression finished (C=0.8890850188818187, shape=(345, 3))\n",
      "Logistic Regression finished (C=1.038524114122989, shape=(345, 3))\n",
      "Logistic Regression finished (C=1.6941795798024304, shape=(345, 3))\n",
      "Logistic Regression finished (C=1.1084501898186552, shape=(345, 3))\n",
      "Logistic Regression finished (C=0.34510998722851305, shape=(345, 3))\n",
      "Logistic Regression finished (C=0.9262139656075676, shape=(345, 3))\n",
      "Logistic Regression finished (C=1.5960580763446948, shape=(345, 3))\n",
      "Logistic Regression finished (C=1.267221839955445, shape=(345, 3))\n",
      "Logistic Regression finished (C=1.6934240883, shape=(345, 3))\n",
      "Logistic Regression finished (C=1.6934240883, shape=(345, 3))\n"
     ]
    }
   ],
   "source": [
    "learner.refit(features, labels)"
   ]
  },
  {
   "cell_type": "code",
   "execution_count": 8,
   "metadata": {},
   "outputs": [
    {
     "data": {
      "text/plain": [
       "0.49442040858594133"
      ]
     },
     "execution_count": 8,
     "metadata": {},
     "output_type": "execute_result"
    }
   ],
   "source": [
    "import ML_algorithms as ml\n",
    "ml.error_calc(labels, learner.predict(features))"
   ]
  },
  {
   "cell_type": "code",
   "execution_count": 9,
   "metadata": {},
   "outputs": [
    {
     "data": {
      "text/plain": [
       "0.34202898550724636"
      ]
     },
     "execution_count": 9,
     "metadata": {},
     "output_type": "execute_result"
    }
   ],
   "source": [
    "(labels == learner.predict(features)).sum()/len(labels)"
   ]
  },
  {
   "cell_type": "code",
   "execution_count": 10,
   "metadata": {},
   "outputs": [
    {
     "data": {
      "text/plain": [
       "{'CART': {'min_samples_split': 0.001}, 'kNN': {'k': 13}, 'lSVM': {'C': 0.75}}"
      ]
     },
     "execution_count": 10,
     "metadata": {},
     "output_type": "execute_result"
    }
   ],
   "source": [
    "learner.ensemble.get_base_learner_params()"
   ]
  },
  {
   "cell_type": "code",
   "execution_count": 11,
   "metadata": {},
   "outputs": [
    {
     "name": "stdout",
     "output_type": "stream",
     "text": [
      "0.4899489098940458\n",
      "0.4812616026827904\n",
      "0.5041568825243941\n"
     ]
    }
   ],
   "source": [
    "for model in learner.ensemble.base_learners:\n",
    "    print(model.error)"
   ]
  }
 ],
 "metadata": {
  "kernelspec": {
   "display_name": "Python 3",
   "language": "python",
   "name": "python3"
  },
  "language_info": {
   "codemirror_mode": {
    "name": "ipython",
    "version": 3
   },
   "file_extension": ".py",
   "mimetype": "text/x-python",
   "name": "python",
   "nbconvert_exporter": "python",
   "pygments_lexer": "ipython3",
   "version": "3.6.3"
  }
 },
 "nbformat": 4,
 "nbformat_minor": 2
}
