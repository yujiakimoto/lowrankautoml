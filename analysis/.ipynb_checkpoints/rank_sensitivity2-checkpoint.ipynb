{
 "cells": [
  {
   "cell_type": "code",
   "execution_count": 1,
   "metadata": {
    "collapsed": true
   },
   "outputs": [],
   "source": [
    "import numpy as np\n",
    "import pandas as pd\n",
    "import low_rank_models as lrm\n",
    "import matplotlib.pyplot as plt"
   ]
  },
  {
   "cell_type": "code",
   "execution_count": 2,
   "metadata": {
    "collapsed": true
   },
   "outputs": [],
   "source": [
    "large_df = pd.read_csv('error_matrix.csv', index_col=0)\n",
    "large_models = np.array(list(large_df))\n",
    "large_IDs = large_df.index.values\n",
    "large_EM = large_df.values\n",
    "large_ndatasets, large_nmodels = large_EM.shape"
   ]
  },
  {
   "cell_type": "code",
   "execution_count": 3,
   "metadata": {
    "collapsed": true
   },
   "outputs": [],
   "source": [
    "small_df = pd.read_csv('error_matrix_small.csv', index_col=0)\n",
    "small_models = np.array(list(small_df))\n",
    "small_IDs = small_df.index.values\n",
    "small_EM = small_df.values\n",
    "small_ndatasets, small_nmodels = small_EM.shape\n",
    "\n",
    "# Select only rows corresponding to datasets common to both error matrices\n",
    "small_EM = small_EM[np.in1d(small_IDs, large_IDs),:]"
   ]
  },
  {
   "cell_type": "code",
   "execution_count": 4,
   "metadata": {
    "collapsed": true
   },
   "outputs": [],
   "source": [
    "# Columns of large error matrix that are contained in small error matrix\n",
    "LARGE_IN_SMALL = np.array([1,3,5,7,9,11,38,26,51,52,53,54,59,60,61,62,106,107,108,109,111,122,164,168,165,169,123]).astype(int)\n",
    "\n",
    "# Columns of small error matrix that are not contained in small error matrix\n",
    "SMALL_NOTIN_LARGE = np.array([6,7,8,9,12,15,20,34,35,36,37,38]).astype(int)"
   ]
  },
  {
   "cell_type": "code",
   "execution_count": 5,
   "metadata": {
    "collapsed": true
   },
   "outputs": [],
   "source": [
    "larger_EM = np.hstack((large_EM, small_EM[:,SMALL_NOTIN_LARGE]))\n",
    "larger_ndatasets, larger_nmodels = larger_EM.shape"
   ]
  },
  {
   "cell_type": "code",
   "execution_count": 6,
   "metadata": {
    "collapsed": true
   },
   "outputs": [],
   "source": [
    "N_DATASETS = min(large_ndatasets, small_ndatasets)\n",
    "MAX_RANK = small_nmodels - 1"
   ]
  },
  {
   "cell_type": "code",
   "execution_count": 7,
   "metadata": {
    "collapsed": true
   },
   "outputs": [],
   "source": [
    "MSE_small = np.zeros(MAX_RANK)\n",
    "\n",
    "for j in range(MAX_RANK):\n",
    "    rank = j + 1\n",
    "    total_loss = 0\n",
    "    \n",
    "    for i in range(N_DATASETS):\n",
    "        a = small_EM[i].reshape(1,-1)\n",
    "        A = np.delete(small_EM, i, axis=0)\n",
    "        a_hat = np.zeros((1, small_nmodels))\n",
    "        X,Y = lrm.pca(A, rank)\n",
    "        known = lrm.pivoted_qr(Y)[:rank]\n",
    "        unknown = np.arange(small_nmodels)[np.invert(np.in1d(np.arange(small_nmodels), known))]\n",
    "        a_hat[:,known] = a[:,known]\n",
    "        a_hat = lrm.low_rank_approximation(A, a_hat, known)\n",
    "        total_loss += np.linalg.norm(a[:,unknown] - a_hat[:,unknown])/len(unknown)\n",
    "    \n",
    "    MSE_small[j] = total_loss/N_DATASETS"
   ]
  },
  {
   "cell_type": "code",
   "execution_count": 8,
   "metadata": {
    "collapsed": true
   },
   "outputs": [],
   "source": [
    "MSE_large = np.zeros(MAX_RANK)\n",
    "SUB_INDICES = np.concatenate((LARGE_IN_SMALL, np.arange(large_nmodels, larger_EM.shape[1])))\n",
    "\n",
    "for j in range(MAX_RANK):\n",
    "    rank = j + 1\n",
    "    total_loss = 0\n",
    "    \n",
    "    for i in range(N_DATASETS):\n",
    "        a = larger_EM[i].reshape(1,-1)\n",
    "        A = np.delete(larger_EM, i, axis=0)\n",
    "        a_hat = np.zeros((1, larger_nmodels))\n",
    "        X,Y = lrm.pca(A, rank)\n",
    "        known = SUB_INDICES[lrm.pivoted_qr(Y[:,SUB_INDICES])][:rank]\n",
    "        unknown = np.arange(larger_nmodels)[np.invert(np.in1d(np.arange(larger_nmodels), known))]\n",
    "        unknown = unknown[np.in1d(unknown, SUB_INDICES)]\n",
    "        a_hat[:,known] = a[:,known]\n",
    "        a_hat = lrm.low_rank_approximation(A, a_hat, known)\n",
    "        total_loss += np.linalg.norm(a[:,unknown] - a_hat[:,unknown])/len(unknown)\n",
    "        \n",
    "    MSE_large[j] = total_loss/N_DATASETS"
   ]
  },
  {
   "cell_type": "code",
   "execution_count": 9,
   "metadata": {},
   "outputs": [
    {
     "data": {
      "image/png": "[encoded data removed]",
      "text/plain": [
       "<matplotlib.figure.Figure at 0x244b70927f0>"
      ]
     },
     "metadata": {},
     "output_type": "display_data"
    }
   ],
   "source": [
    "x = np.arange(MAX_RANK)\n",
    "plt.plot(x, MSE_small, label='39 columns')\n",
    "plt.plot(x, MSE_large, label='198 columns')\n",
    "plt.legend(loc='upper left')\n",
    "plt.xlabel('rank')\n",
    "plt.ylabel('MSE (per entry) of approximated row')\n",
    "plt.show()"
   ]
  }
 ],
 "metadata": {
  "kernelspec": {
   "display_name": "Python 3",
   "language": "python",
   "name": "python3"
  },
  "language_info": {
   "codemirror_mode": {
    "name": "ipython",
    "version": 3
   },
   "file_extension": ".py",
   "mimetype": "text/x-python",
   "name": "python",
   "nbconvert_exporter": "python",
   "pygments_lexer": "ipython3",
   "version": "3.6.1"
  }
 },
 "nbformat": 4,
 "nbformat_minor": 2
}
