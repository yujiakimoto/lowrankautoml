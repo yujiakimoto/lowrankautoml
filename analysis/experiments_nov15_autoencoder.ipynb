{
 "cells": [
  {
   "cell_type": "code",
   "execution_count": 1,
   "metadata": {},
   "outputs": [
    {
     "name": "stderr",
     "output_type": "stream",
     "text": [
      "/home/yuji/anaconda3/lib/python3.6/importlib/_bootstrap.py:205: RuntimeWarning: compiletime version 3.5 of module 'tensorflow.python.framework.fast_tensor_util' does not match runtime version 3.6\n",
      "  return f(*args, **kwds)\n"
     ]
    }
   ],
   "source": [
    "import numpy as np\n",
    "import pandas as pd\n",
    "import tensorflow as tf\n",
    "import matplotlib.pyplot as plt\n",
    "import low_rank_models as lrm"
   ]
  },
  {
   "cell_type": "code",
   "execution_count": 2,
   "metadata": {
    "collapsed": true
   },
   "outputs": [],
   "source": [
    "df = pd.read_csv('error_matrix_small.csv', index_col=0)\n",
    "models = np.array(list(df))\n",
    "dataset_IDs = df.index.values\n",
    "errorMtx = df.values\n",
    "n_datasets, n_models = errorMtx.shape"
   ]
  },
  {
   "cell_type": "code",
   "execution_count": 3,
   "metadata": {
    "collapsed": true
   },
   "outputs": [],
   "source": [
    "RANK = 9\n",
    "LAMBDA = 100\n",
    "MU = 100\n",
    "LEARNING_RATE = 0.01\n",
    "N_EPOCHS = 1000"
   ]
  },
  {
   "cell_type": "code",
   "execution_count": 4,
   "metadata": {},
   "outputs": [],
   "source": [
    "x = tf.placeholder(tf.float32, shape=[None, n_models], name='input')\n",
    "\n",
    "reg1 = tf.constant(0.0)  # regularizer enforcing at most RANK weights are active\n",
    "reg2 = tf.constant(0.0)  # regularizer enforcing weights are boolean\n",
    "\n",
    "with tf.variable_scope('encoder'):\n",
    "    we = tf.get_variable('w', \n",
    "                        initializer=tf.truncated_normal([n_models, RANK]),\n",
    "                        constraint=lambda x: tf.clip_by_value(x, 0, 1))\n",
    "    encoded = tf.matmul(x, we)\n",
    "    reg1 += LAMBDA * tf.nn.l2_loss(tf.reduce_sum(we, axis=0) - tf.constant(np.ones(RANK), dtype=tf.float32))\n",
    "    reg2 += MU * (1 - tf.nn.l2_loss(we - 0.5))\n",
    "\n",
    "with tf.variable_scope('decoder_1'):\n",
    "    wd1 = tf.get_variable('w', initializer=tf.truncated_normal([RANK, n_models]))\n",
    "    bd1 = tf.get_variable('b', initializer=tf.zeros([n_models]))\n",
    "    d1 = tf.matmul(encoded, wd1) + bd1\n",
    "    \n",
    "'''\n",
    "with tf.variable_scope('decoder_2'):\n",
    "    wd2 = tf.get_variable('w', initializer=tf.truncated_normal([n_models, n_models]))\n",
    "    bd2 = tf.get_variable('b', initializer=tf.zeros([n_models]))\n",
    "    d2 = tf.matmul(d1, wd2) + bd2\n",
    "'''\n",
    "    \n",
    "loss = tf.nn.l2_loss(x - d1)\n",
    "optimizer = tf.train.AdamOptimizer(learning_rate=LEARNING_RATE).minimize(loss + reg1 + reg2)\n",
    "init = tf.global_variables_initializer()"
   ]
  },
  {
   "cell_type": "code",
   "execution_count": 5,
   "metadata": {},
   "outputs": [
    {
     "name": "stdout",
     "output_type": "stream",
     "text": [
      "epoch      1, loss=148400.109375, regularizer1=58117.8359, regularizer2=-3348.2258\n",
      "epoch   1000, loss=40.209251, regularizer1=53.0612, regularizer2=-4071.4700\n"
     ]
    }
   ],
   "source": [
    "sess = tf.InteractiveSession()\n",
    "sess.run(init)\n",
    "\n",
    "for i in range(N_EPOCHS):\n",
    "    sess.run(optimizer, feed_dict={x:errorMtx})\n",
    "    if i%1000 == 999 or i==0:\n",
    "        l,r1,r2 = sess.run([loss, reg1, reg2], feed_dict={x:errorMtx})\n",
    "        print(\"epoch %6d, loss=%6f, regularizer1=%0.4f, regularizer2=%0.4f\" % (i+1, l, round(r1, 4), round(r2, 4)))"
   ]
  },
  {
   "cell_type": "code",
   "execution_count": 6,
   "metadata": {},
   "outputs": [],
   "source": [
    "w = np.array(sess.run([we]))[0]"
   ]
  },
  {
   "cell_type": "code",
   "execution_count": 7,
   "metadata": {},
   "outputs": [
    {
     "data": {
      "text/plain": [
       "array([ 0.79250956,  0.66232163,  0.50207794,  0.59740973,  0.77078217,\n",
       "        0.69325089,  0.68250704,  0.62859035,  0.67021745], dtype=float32)"
      ]
     },
     "execution_count": 7,
     "metadata": {},
     "output_type": "execute_result"
    }
   ],
   "source": [
    "np.sum(w, axis=0)"
   ]
  },
  {
   "cell_type": "code",
   "execution_count": 8,
   "metadata": {},
   "outputs": [
    {
     "data": {
      "image/png": "[encoded data removed]",
      "text/plain": [
       "<matplotlib.figure.Figure at 0x7fb181b36128>"
      ]
     },
     "metadata": {},
     "output_type": "display_data"
    }
   ],
   "source": [
    "plt.plot(np.arange(39), np.sum(w, axis=1))\n",
    "plt.show()"
   ]
  },
  {
   "cell_type": "code",
   "execution_count": 9,
   "metadata": {},
   "outputs": [
    {
     "data": {
      "text/plain": [
       "array([26, 12, 25,  5,  0, 24, 13, 18, 14])"
      ]
     },
     "execution_count": 9,
     "metadata": {},
     "output_type": "execute_result"
    }
   ],
   "source": [
    "np.argsort(-np.sum(w, axis=1))[:RANK]"
   ]
  }
 ],
 "metadata": {
  "kernelspec": {
   "display_name": "Python 3",
   "language": "python",
   "name": "python3"
  },
  "language_info": {
   "codemirror_mode": {
    "name": "ipython",
    "version": 3
   },
   "file_extension": ".py",
   "mimetype": "text/x-python",
   "name": "python",
   "nbconvert_exporter": "python",
   "pygments_lexer": "ipython3",
   "version": "3.6.1"
  }
 },
 "nbformat": 4,
 "nbformat_minor": 2
}
