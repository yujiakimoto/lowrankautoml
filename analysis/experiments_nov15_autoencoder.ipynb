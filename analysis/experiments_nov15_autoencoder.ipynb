{
 "cells": [
  {
   "cell_type": "code",
   "execution_count": 1,
   "metadata": {},
   "outputs": [
    {
     "name": "stderr",
     "output_type": "stream",
     "text": [
      "/home/yuji/anaconda3/lib/python3.6/importlib/_bootstrap.py:205: RuntimeWarning: compiletime version 3.5 of module 'tensorflow.python.framework.fast_tensor_util' does not match runtime version 3.6\n",
      "  return f(*args, **kwds)\n"
     ]
    }
   ],
   "source": [
    "import numpy as np\n",
    "import pandas as pd\n",
    "import tensorflow as tf\n",
    "import matplotlib.pyplot as plt\n",
    "import low_rank_models as lrm"
   ]
  },
  {
   "cell_type": "code",
   "execution_count": 2,
   "metadata": {
    "collapsed": true
   },
   "outputs": [],
   "source": [
    "df = pd.read_csv('error_matrix_small.csv', index_col=0)\n",
    "models = np.array(list(df))\n",
    "dataset_IDs = df.index.values\n",
    "errorMtx = df.values\n",
    "n_datasets, n_models = errorMtx.shape"
   ]
  },
  {
   "cell_type": "code",
   "execution_count": 3,
   "metadata": {
    "collapsed": true
   },
   "outputs": [],
   "source": [
    "RANK = 9\n",
    "LAMBDA = 10\n",
    "MU = 10\n",
    "GAMMA = 1\n",
    "LEARNING_RATE = 0.01\n",
    "N_EPOCHS = 10000"
   ]
  },
  {
   "cell_type": "code",
   "execution_count": 4,
   "metadata": {
    "collapsed": true
   },
   "outputs": [],
   "source": [
    "x = tf.placeholder(tf.float32, shape=[None, n_models], name='input')\n",
    "\n",
    "reg1 = tf.constant(0.0)  # regularizer enforcing at most RANK weights are active\n",
    "reg2 = tf.constant(0.0)  # regularizer enforcing weights are boolean\n",
    "reg3 = tf.constant(0.0)  # regularizer enforcing each entry is selected at most once\n",
    "\n",
    "with tf.variable_scope('encoder'):\n",
    "    we = tf.get_variable('w', \n",
    "                        initializer=tf.constant(0.5*np.ones([n_models, RANK]), dtype=tf.float32),\n",
    "                        constraint=lambda x: tf.clip_by_value(x, 0, 1))\n",
    "    encoded = tf.matmul(x, we)\n",
    "    reg1 += LAMBDA * tf.nn.l2_loss(tf.reduce_sum(we, axis=0) - tf.constant(np.ones(RANK), dtype=tf.float32))\n",
    "    reg2 += MU * (1 - tf.nn.l2_loss(we - 0.5))\n",
    "    reg3 += GAMMA * tf.nn.l2_loss(tf.reduce_sum(we, axis=1))\n",
    "\n",
    "with tf.variable_scope('decoder_1'):\n",
    "    wd1 = tf.get_variable('w', initializer=tf.truncated_normal([RANK, n_models]))\n",
    "    bd1 = tf.get_variable('b', initializer=tf.zeros([n_models]))\n",
    "    d1 = tf.matmul(encoded, wd1) + bd1\n",
    "    \n",
    "'''\n",
    "with tf.variable_scope('decoder_2'):\n",
    "    wd2 = tf.get_variable('w', initializer=tf.truncated_normal([n_models, n_models]))\n",
    "    bd2 = tf.get_variable('b', initializer=tf.zeros([n_models]))\n",
    "    d2 = tf.matmul(d1, wd2) + bd2\n",
    "'''\n",
    "    \n",
    "loss = tf.nn.l2_loss(x - d1)\n",
    "optimizer = tf.train.AdamOptimizer(learning_rate=LEARNING_RATE).minimize(loss + reg1 + reg2 + reg3)\n",
    "init = tf.global_variables_initializer()"
   ]
  },
  {
   "cell_type": "code",
   "execution_count": 5,
   "metadata": {},
   "outputs": [
    {
     "name": "stdout",
     "output_type": "stream",
     "text": [
      "epoch      1, loss=291375.500000, regularizer1=14758.7324, regularizer2=9.8245\n",
      "epoch   1000, loss=26.676907, regularizer1=4.4745, regularizer2=-397.9978\n",
      "epoch   2000, loss=17.890551, regularizer1=5.7950, regularizer2=-400.3880\n",
      "epoch   3000, loss=13.608894, regularizer1=6.5021, regularizer2=-402.8827\n",
      "epoch   4000, loss=12.411314, regularizer1=6.7519, regularizer2=-405.4857\n",
      "epoch   5000, loss=13.153906, regularizer1=4.7234, regularizer2=-413.3744\n",
      "epoch   6000, loss=13.735346, regularizer1=1.2030, regularizer2=-421.3280\n",
      "epoch   7000, loss=13.328751, regularizer1=0.5930, regularizer2=-427.1447\n",
      "epoch   8000, loss=11.977673, regularizer1=0.0113, regularizer2=-428.4497\n",
      "epoch   9000, loss=10.394178, regularizer1=0.0000, regularizer2=-428.7500\n",
      "epoch  10000, loss=9.647133, regularizer1=0.0000, regularizer2=-428.7500\n"
     ]
    }
   ],
   "source": [
    "sess = tf.InteractiveSession()\n",
    "sess.run(init)\n",
    "\n",
    "for i in range(N_EPOCHS):\n",
    "    sess.run(optimizer, feed_dict={x:errorMtx})\n",
    "    if i%1000 == 999 or i==0:\n",
    "        l,r1,r2 = sess.run([loss, reg1, reg2], feed_dict={x:errorMtx})\n",
    "        print(\"epoch %6d, loss=%6f, regularizer1=%0.4f, regularizer2=%0.4f\" % (i+1, l, round(r1, 4), round(r2, 4)))"
   ]
  },
  {
   "cell_type": "code",
   "execution_count": 6,
   "metadata": {
    "collapsed": true
   },
   "outputs": [],
   "source": [
    "w = np.array(sess.run([we]))[0]"
   ]
  },
  {
   "cell_type": "code",
   "execution_count": 7,
   "metadata": {},
   "outputs": [
    {
     "data": {
      "text/plain": [
       "array([ 1.,  1.,  1.,  1.,  1.,  1.,  1.,  1.,  1.], dtype=float32)"
      ]
     },
     "execution_count": 7,
     "metadata": {},
     "output_type": "execute_result"
    }
   ],
   "source": [
    "np.sum(w, axis=0)"
   ]
  },
  {
   "cell_type": "code",
   "execution_count": 8,
   "metadata": {},
   "outputs": [
    {
     "data": {
      "image/png": "[encoded data removed]",
      "text/plain": [
       "<matplotlib.figure.Figure at 0x7fb0262bccc0>"
      ]
     },
     "metadata": {},
     "output_type": "display_data"
    }
   ],
   "source": [
    "plt.plot(np.arange(39), np.sum(w, axis=1))\n",
    "plt.show()"
   ]
  },
  {
   "cell_type": "code",
   "execution_count": 10,
   "metadata": {},
   "outputs": [
    {
     "data": {
      "text/plain": [
       "array([38, 24, 17, 16, 15, 14, 13, 21,  6])"
      ]
     },
     "execution_count": 10,
     "metadata": {},
     "output_type": "execute_result"
    }
   ],
   "source": [
    "sampled_cols = np.argsort(-np.sum(w, axis=1))[:RANK]\n",
    "sampled_cols"
   ]
  },
  {
   "cell_type": "code",
   "execution_count": 19,
   "metadata": {
    "collapsed": true
   },
   "outputs": [],
   "source": [
    "bestModel = np.argmin(errorMtx, axis=1)\n",
    "bestAlg = sameAlg(bestModel)\n",
    "bestError = np.min(errorMtx, axis=1)\n",
    "algtypes = np.sort(np.unique(bestAlg))"
   ]
  },
  {
   "cell_type": "code",
   "execution_count": 18,
   "metadata": {
    "collapsed": true
   },
   "outputs": [],
   "source": [
    "def sameAlg(testBestCol):\n",
    "    testBestAlgType = []\n",
    "    for i in range(len(testBestCol)):\n",
    "        # testBestAlgType.append(eval(models[testBestCol[i]])['algorithm'])\n",
    "        testBestAlgType.append(models[testBestCol[i]].split('.')[0])\n",
    "    return np.array(testBestAlgType)"
   ]
  },
  {
   "cell_type": "code",
   "execution_count": 16,
   "metadata": {},
   "outputs": [],
   "source": [
    "predicted = ()\n",
    "for i in range(n_datasets):\n",
    "    a = errorMtx[i].reshape(1,-1)\n",
    "    A = np.delete(errorMtx, i, axis=0)\n",
    "    a_hat = np.zeros((1, n_models))\n",
    "    X,Y,Vt = lrm.pca(A, rank=RANK)\n",
    "    a_hat[:,sampled_cols] = a[:,sampled_cols]\n",
    "    a_hat = lrm.low_rank_approximation(A, a_hat, sampled_cols)\n",
    "    predicted += (np.argsort(a_hat),)\n",
    "prediction = np.vstack(predicted)"
   ]
  },
  {
   "cell_type": "code",
   "execution_count": 20,
   "metadata": {},
   "outputs": [],
   "source": [
    "correct_model = []\n",
    "correct_alg = []\n",
    "error_diff = []\n",
    "\n",
    "cm = np.zeros(n_models)\n",
    "ca = np.zeros((n_datasets, n_models)).astype(int)\n",
    "ed = np.zeros((n_datasets, n_models))\n",
    "\n",
    "for i in range(n_models):\n",
    "    cm[i] = (prediction[:,i] == bestModel).sum()\n",
    "    for j in range(n_datasets):\n",
    "        ed[j,i] = errorMtx[j, prediction[j,i]] - bestError[j]\n",
    "    if i==0:\n",
    "        ca[:,i] = sameAlg(prediction[:,i]) == bestAlg\n",
    "    else:\n",
    "        ca[:,i] = np.logical_or(ca[:,i-1], sameAlg(prediction[:,i]) == bestAlg)\n",
    "for j in range(n_datasets):\n",
    "    ed[j] = np.minimum.accumulate(ed[j])\n",
    "\n",
    "correct_model.append(np.cumsum(cm))\n",
    "correct_alg.append(np.sum(ca, axis=0))\n",
    "error_diff.append(np.mean(ed, axis=0))   "
   ]
  },
  {
   "cell_type": "code",
   "execution_count": 22,
   "metadata": {
    "collapsed": true
   },
   "outputs": [],
   "source": [
    "max_entries = 20\n",
    "fontsize = 11"
   ]
  },
  {
   "cell_type": "code",
   "execution_count": 23,
   "metadata": {},
   "outputs": [
    {
     "data": {
      "image/png": "[encoded data removed]",
      "text/plain": [
       "<matplotlib.figure.Figure at 0x7fb0267abac8>"
      ]
     },
     "metadata": {},
     "output_type": "display_data"
    }
   ],
   "source": [
    "x = np.arange(1, n_models+1, 1)[0:max_entries]\n",
    "plt.plot(x, correct_model[0][0:max_entries]*100/n_datasets, label='autoencoder')\n",
    "plt.axvline(x=5, linestyle='dashed', linewidth=0.7, color='black')\n",
    "plt.legend(loc='lower right', fontsize=fontsize)\n",
    "plt.xlabel('ensemble candidates', fontsize=fontsize)\n",
    "plt.xticks(np.arange(0, max_entries + 5, 5), fontsize=fontsize)\n",
    "plt.yticks([0,20,40,60,80,100], fontsize=fontsize)\n",
    "plt.ylabel('% correct model', fontsize=fontsize)\n",
    "plt.show()"
   ]
  }
 ],
 "metadata": {
  "kernelspec": {
   "display_name": "Python 3",
   "language": "python",
   "name": "python3"
  },
  "language_info": {
   "codemirror_mode": {
    "name": "ipython",
    "version": 3
   },
   "file_extension": ".py",
   "mimetype": "text/x-python",
   "name": "python",
   "nbconvert_exporter": "python",
   "pygments_lexer": "ipython3",
   "version": "3.6.1"
  }
 },
 "nbformat": 4,
 "nbformat_minor": 2
}
