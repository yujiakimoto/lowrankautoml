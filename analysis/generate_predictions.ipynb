{
 "cells": [
  {
   "cell_type": "code",
   "execution_count": 1,
   "metadata": {
    "collapsed": true
   },
   "outputs": [],
   "source": [
    "import numpy as np\n",
    "import pandas as pd\n",
    "import low_rank_models as lrm"
   ]
  },
  {
   "cell_type": "code",
   "execution_count": 2,
   "metadata": {
    "collapsed": true
   },
   "outputs": [],
   "source": [
    "df = pd.read_csv('error_matrix_small.csv', index_col=0)\n",
    "models = np.array(list(df))\n",
    "dataset_IDs = df.index.values\n",
    "errorMtx = df.values\n",
    "n_datasets, n_models = errorMtx.shape"
   ]
  },
  {
   "cell_type": "code",
   "execution_count": null,
   "metadata": {
    "collapsed": true
   },
   "outputs": [],
   "source": [
    "df2 = pd.read_csv('error_matrix_test.csv', index_col=0)\n",
    "dataset_test_IDs = df2.index.values\n",
    "errorMtx_test = df2.values\n",
    "n_datasets_test, n_models = errorMtx_test.shape"
   ]
  },
  {
   "cell_type": "code",
   "execution_count": 3,
   "metadata": {
    "collapsed": true
   },
   "outputs": [],
   "source": [
    "RANK = 9"
   ]
  },
  {
   "cell_type": "code",
   "execution_count": 9,
   "metadata": {
    "collapsed": true
   },
   "outputs": [],
   "source": [
    "predicted = ()\n",
    "for i in range(n_datasets):\n",
    "    a = errorMtx[i].reshape(1,-1)\n",
    "    A = np.delete(errorMtx, i, axis=0)\n",
    "    a_hat = np.zeros((1, n_models))\n",
    "    X,Y,_ = lrm.pca(A, rank=RANK)\n",
    "    sampled_cols = np.argsort(np.mean(errorMtx, axis=0))[:RANK]\n",
    "    a_hat[:,sampled_cols] = a[:,sampled_cols]\n",
    "    a_hat = lrm.low_rank_approximation(A, a_hat, sampled_cols)\n",
    "    predicted += (np.argsort(a_hat),)\n",
    "BC_predictions = np.vstack(predicted)"
   ]
  },
  {
   "cell_type": "code",
   "execution_count": 10,
   "metadata": {
    "collapsed": true
   },
   "outputs": [],
   "source": [
    "pd.DataFrame(BC_predictions).to_csv('predictions/rank9_BC.csv')"
   ]
  },
  {
   "cell_type": "code",
   "execution_count": null,
   "metadata": {
    "collapsed": true
   },
   "outputs": [],
   "source": [
    "predicted = ()\n",
    "for i in range(n_datasets):\n",
    "    a = errorMtx[i].reshape(1,-1)\n",
    "    A = np.delete(errorMtx, i, axis=0)\n",
    "    a_hat = np.zeros((1, n_models))\n",
    "    X,Y,_ = lrm.pca(A, rank=RANK)\n",
    "    sampled_cols = lrm.pivoted_qr(A)[:RANK]\n",
    "    a_hat[:,sampled_cols] = a[:,sampled_cols]\n",
    "    a_hat = lrm.low_rank_approximation(A, a_hat, sampled_cols)\n",
    "    predicted += (np.argsort(a_hat),)\n",
    "QRA_predictions = np.vstack(predicted)"
   ]
  },
  {
   "cell_type": "code",
   "execution_count": null,
   "metadata": {
    "collapsed": true
   },
   "outputs": [],
   "source": [
    "predicted = ()\n",
    "for i in range(n_datasets):\n",
    "    a = errorMtx[i].reshape(1,-1)\n",
    "    A = np.delete(errorMtx, i, axis=0)\n",
    "    a_hat = np.zeros((1, n_models))\n",
    "    X,Y,_ = lrm.pca(A, rank=RANK)\n",
    "    sampled_cols = lrm.pivoted_qr(Y)[:RANK]\n",
    "    a_hat[:,sampled_cols] = a[:,sampled_cols]\n",
    "    a_hat = lrm.low_rank_approximation(A, a_hat, sampled_cols)\n",
    "    predicted += (np.argsort(a_hat),)\n",
    "QRY_predictions = np.vstack(predicted)"
   ]
  },
  {
   "cell_type": "code",
   "execution_count": null,
   "metadata": {
    "collapsed": true
   },
   "outputs": [],
   "source": [
    "predicted = ()\n",
    "for i in range(n_datasets):\n",
    "    a = errorMtx[i].reshape(1,-1)\n",
    "    A = np.delete(errorMtx, i, axis=0)\n",
    "    a_hat = np.zeros((1, n_models))\n",
    "    X,Y,Vt = lrm.pca(A, rank=RANK)\n",
    "    sampled_cols = lrm.pivoted_qr(Vt)[:RANK]\n",
    "    a_hat[:,sampled_cols] = a[:,sampled_cols]\n",
    "    a_hat = lrm.low_rank_approximation(A, a_hat, sampled_cols)\n",
    "    predicted += (np.argsort(a_hat),)\n",
    "QRV_predictions = np.vstack(predicted)"
   ]
  },
  {
   "cell_type": "code",
   "execution_count": null,
   "metadata": {
    "collapsed": true
   },
   "outputs": [],
   "source": [
    "predicted = ()\n",
    "for i in range(n_datasets):\n",
    "    a = errorMtx[i].reshape(1,-1)\n",
    "    A = np.delete(errorMtx, i, axis=0)\n",
    "    a_hat = np.zeros((1, n_models))\n",
    "    sampled_cols = np.random.permutation(n_models)[:RANK]\n",
    "    a_hat[:,sampled_cols] = a[:,sampled_cols]\n",
    "    a_hat = lrm.low_rank_approximation(A, a_hat, sampled_cols)\n",
    "    predicted += (np.argsort(a_hat),)\n",
    "RND_predictions = np.vstack(predicted)"
   ]
  },
  {
   "cell_type": "code",
   "execution_count": null,
   "metadata": {
    "collapsed": true
   },
   "outputs": [],
   "source": [
    "breakpoints = []\n",
    "prevtype = 'kNN'\n",
    "for i in range(n_models):\n",
    "    # algtype = eval(models[i])['algorithm']\n",
    "    algtype = models[i].split('.')[0]\n",
    "    if algtype != prevtype:\n",
    "        breakpoints.append(i)\n",
    "    prevtype = algtype\n",
    "breakpoints = [0] + breakpoints + [n_models]"
   ]
  },
  {
   "cell_type": "code",
   "execution_count": null,
   "metadata": {
    "collapsed": true
   },
   "outputs": [],
   "source": [
    "predicted = ()\n",
    "for i in range(n_datasets):\n",
    "    a = errorMtx[i].reshape(1,-1)\n",
    "    A = np.delete(errorMtx, i, axis=0)\n",
    "    a_hat = np.zeros((1, n_models))\n",
    "    sampled_cols = []\n",
    "    for j in range(len(breakpoints) - 1):\n",
    "        sampled_cols.append(np.random.randint(breakpoints[j], breakpoints[j+1]))\n",
    "    sampled_cols = np.array(sampled_cols)[np.random.permutation(len(breakpoints)-1)[:RANK]]\n",
    "    a_hat[:,sampled_cols] = a[:,sampled_cols]\n",
    "    a_hat = lrm.low_rank_approximation(A, a_hat, sampled_cols)\n",
    "    predicted += (np.argsort(a_hat),)\n",
    "SRND_predictions = np.vstack(predicted)"
   ]
  },
  {
   "cell_type": "code",
   "execution_count": null,
   "metadata": {
    "collapsed": true
   },
   "outputs": [],
   "source": [
    "pd.DataFrame(QRA_predictions).to_csv('predictions/rank9_QRA.csv')\n",
    "pd.DataFrame(QRY_predictions).to_csv('predictions/rank9_QRY.csv')\n",
    "pd.DataFrame(QRV_predictions).to_csv('predictions/rank9_QRV.csv')\n",
    "pd.DataFrame(RND_predictions).to_csv('predictions/rank9_RND.csv')\n",
    "pd.DataFrame(SRND_predictions).to_csv('predictions/rank9_SRND.csv')"
   ]
  },
  {
   "cell_type": "code",
   "execution_count": 4,
   "metadata": {
    "collapsed": true
   },
   "outputs": [],
   "source": [
    "#cross validation on training datasets\n",
    "for k in range(30):\n",
    "    rank = k + 1\n",
    "    predicted = ()\n",
    "    for i in range(n_datasets):\n",
    "        a = errorMtx[i].reshape(1,-1)\n",
    "        A = np.delete(errorMtx, i, axis=0)\n",
    "        X,Y,Vt = lrm.pca(A, rank)\n",
    "        sampled_cols = lrm.pivoted_qr(Vt)[:rank]\n",
    "        a_hat = np.zeros((1, n_models))\n",
    "        a_hat[:,sampled_cols] = a[:,sampled_cols]\n",
    "        a_hat = lrm.low_rank_approximation(A, a_hat, sampled_cols)\n",
    "        predicted += (np.argsort(a_hat),)\n",
    "    QR_predictions = np.vstack(predicted)\n",
    "    pd.DataFrame(QR_predictions).to_csv('predictions/rank' + str(rank) + '_QRV.csv')"
   ]
  },
  {
   "cell_type": "code",
   "execution_count": null,
   "metadata": {
    "collapsed": true
   },
   "outputs": [],
   "source": [
    "#prediction on test datasets\n",
    "for k in range(30):\n",
    "    rank = k + 1\n",
    "    sampled_cols = lrm.pivoted_qr(errorMtx)[:rank]\n",
    "    predicted = ()\n",
    "    for i in range(n_datasets_test):\n",
    "        A = errorMtx\n",
    "        a_hat = np.zeros((1, n_models))\n",
    "        a_hat[:,sampled_cols] = a[:,sampled_cols]\n",
    "        a_hat = lrm.low_rank_approximation(A, a_hat, sampled_cols)\n",
    "        predicted += (np.argsort(a_hat),)\n",
    "    QR_predictions = np.vstack(predicted)\n",
    "    pd.DataFrame(QR_predictions).to_csv('predictions/rank' + str(rank) + '_QR_test.csv')     \n",
    "        "
   ]
  }
 ],
 "metadata": {
  "kernelspec": {
   "display_name": "Python 3",
   "language": "python",
   "name": "python3"
  },
  "language_info": {
   "codemirror_mode": {
    "name": "ipython",
    "version": 3
   },
   "file_extension": ".py",
   "mimetype": "text/x-python",
   "name": "python",
   "nbconvert_exporter": "python",
   "pygments_lexer": "ipython3",
   "version": "3.6.1"
  }
 },
 "nbformat": 4,
 "nbformat_minor": 2
}
