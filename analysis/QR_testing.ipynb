{
 "cells": [
  {
   "cell_type": "code",
   "execution_count": 4,
   "metadata": {
    "collapsed": true
   },
   "outputs": [],
   "source": [
    "import numpy as np\n",
    "import pandas as pd\n",
    "from scipy.sparse.linalg import svds\n",
    "from scipy.linalg import qr"
   ]
  },
  {
   "cell_type": "code",
   "execution_count": 3,
   "metadata": {},
   "outputs": [],
   "source": [
    "small_em = pd.read_csv('error_matrix_small.csv', index_col=0).values"
   ]
  },
  {
   "cell_type": "code",
   "execution_count": 5,
   "metadata": {
    "collapsed": true
   },
   "outputs": [],
   "source": [
    "def pivoted_qr(A):\n",
    "    return qr(A, pivoting=True)[2]"
   ]
  },
  {
   "cell_type": "code",
   "execution_count": 6,
   "metadata": {
    "collapsed": true
   },
   "outputs": [],
   "source": [
    "def pca(A, rank):\n",
    "    # rank = approx_rank(A)\n",
    "    col_stdev = np.std(A, axis=0)\n",
    "    U,s,Vt = svds(A, k=rank)\n",
    "    Sigma_sqrt = np.diag(np.sqrt(s))\n",
    "    X = np.matrix.transpose(np.dot(U, Sigma_sqrt))\n",
    "    Y = np.dot(np.dot(Sigma_sqrt, Vt), np.diag(col_stdev))\n",
    "    return X,Y,Vt"
   ]
  },
  {
   "cell_type": "code",
   "execution_count": 7,
   "metadata": {
    "collapsed": true
   },
   "outputs": [],
   "source": [
    "X,Y,Vt = pca(small_em, 9)"
   ]
  },
  {
   "cell_type": "code",
   "execution_count": 9,
   "metadata": {},
   "outputs": [
    {
     "data": {
      "text/plain": [
       "array([30, 12, 29,  0, 34, 33, 18, 28, 10, 32, 14, 11,  8, 22, 35,  5,  6,\n",
       "       37, 19, 31, 21,  1,  9,  7, 27,  3, 36, 23, 17,  4, 26,  2, 15, 38,\n",
       "       20, 16, 25, 13, 24], dtype=int32)"
      ]
     },
     "execution_count": 9,
     "metadata": {},
     "output_type": "execute_result"
    }
   ],
   "source": [
    "pivoted_qr(small_em)"
   ]
  },
  {
   "cell_type": "code",
   "execution_count": 8,
   "metadata": {},
   "outputs": [
    {
     "data": {
      "text/plain": [
       "array([30, 12, 34, 33, 29, 18,  0, 13, 38,  9, 10, 11,  1,  7, 14, 15, 16,\n",
       "       17,  5, 19, 20, 21, 22, 23, 24, 25, 26, 27, 28,  4,  6, 31, 32,  3,\n",
       "        2, 35, 36, 37,  8], dtype=int32)"
      ]
     },
     "execution_count": 8,
     "metadata": {},
     "output_type": "execute_result"
    }
   ],
   "source": [
    "pivoted_qr(Y)"
   ]
  },
  {
   "cell_type": "code",
   "execution_count": 10,
   "metadata": {},
   "outputs": [
    {
     "data": {
      "text/plain": [
       "array([12, 33, 34, 30, 29,  0, 18, 38, 13,  9, 10, 11,  5,  8, 14, 15, 16,\n",
       "       17,  6, 19, 20, 21, 22, 23, 24, 25, 26, 27, 28,  4,  3, 31, 32,  1,\n",
       "        2, 35, 36, 37,  7], dtype=int32)"
      ]
     },
     "execution_count": 10,
     "metadata": {},
     "output_type": "execute_result"
    }
   ],
   "source": [
    "pivoted_qr(Vt)"
   ]
  },
  {
   "cell_type": "code",
   "execution_count": 11,
   "metadata": {},
   "outputs": [
    {
     "data": {
      "text/plain": [
       "array([1, 0], dtype=int32)"
      ]
     },
     "execution_count": 11,
     "metadata": {},
     "output_type": "execute_result"
    }
   ],
   "source": [
    "pivoted_qr(np.array([[1,2],[2,4]]))"
   ]
  },
  {
   "cell_type": "code",
   "execution_count": 12,
   "metadata": {},
   "outputs": [
    {
     "data": {
      "text/plain": [
       "array([0, 1], dtype=int32)"
      ]
     },
     "execution_count": 12,
     "metadata": {},
     "output_type": "execute_result"
    }
   ],
   "source": [
    "pivoted_qr(np.array([[2,1],[4,2]]))"
   ]
  }
 ],
 "metadata": {
  "kernelspec": {
   "display_name": "Python 3",
   "language": "python",
   "name": "python3"
  },
  "language_info": {
   "codemirror_mode": {
    "name": "ipython",
    "version": 3
   },
   "file_extension": ".py",
   "mimetype": "text/x-python",
   "name": "python",
   "nbconvert_exporter": "python",
   "pygments_lexer": "ipython3",
   "version": "3.6.1"
  }
 },
 "nbformat": 4,
 "nbformat_minor": 2
}
