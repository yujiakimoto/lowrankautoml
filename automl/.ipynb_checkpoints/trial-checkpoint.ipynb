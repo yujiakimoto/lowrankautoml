{
 "cells": [
  {
   "cell_type": "code",
   "execution_count": 1,
   "metadata": {
    "collapsed": true
   },
   "outputs": [],
   "source": [
    "import sys\n",
    "import numpy as np\n",
    "import multiprocessing as mp\n",
    "import pandas as pd\n",
    "import low_rank_models as lrm\n",
    "import ML_algorithms as ml\n",
    "import util\n",
    "import time\n",
    "from model import Model\n",
    "from pathos.multiprocessing import ProcessingPool\n",
    "from sklearn.linear_model import LogisticRegression\n",
    "from sklearn.model_selection import KFold"
   ]
  },
  {
   "cell_type": "code",
   "execution_count": 2,
   "metadata": {},
   "outputs": [
    {
     "name": "stdout",
     "output_type": "stream",
     "text": [
      "less\n",
      "<class 'str'>\n",
      "<class 'str'>\n"
     ]
    },
    {
     "ename": "ValueError",
     "evalue": "The truth value of an array with more than one element is ambiguous. Use a.any() or a.all()",
     "output_type": "error",
     "traceback": [
      "\u001b[0;31m---------------------------------------------------------------------------\u001b[0m",
      "\u001b[0;31mValueError\u001b[0m                                Traceback (most recent call last)",
      "\u001b[0;32m<ipython-input-2-df0013f6f939>\u001b[0m in \u001b[0;36m<module>\u001b[0;34m()\u001b[0m\n\u001b[1;32m     11\u001b[0m \u001b[0mINDICES_QR\u001b[0m \u001b[0;34m=\u001b[0m \u001b[0mlrm\u001b[0m\u001b[0;34m.\u001b[0m\u001b[0mpivoted_qr\u001b[0m\u001b[0;34m(\u001b[0m\u001b[0mVt\u001b[0m\u001b[0;34m)\u001b[0m\u001b[0;34m[\u001b[0m\u001b[0;34m:\u001b[0m\u001b[0mRANK\u001b[0m\u001b[0;34m]\u001b[0m\u001b[0;34m\u001b[0m\u001b[0m\n\u001b[1;32m     12\u001b[0m \u001b[0;34m\u001b[0m\u001b[0m\n\u001b[0;32m---> 13\u001b[0;31m \u001b[0mHEADINGS\u001b[0m \u001b[0;34m=\u001b[0m \u001b[0mutil\u001b[0m\u001b[0;34m.\u001b[0m\u001b[0mgenerate_headings\u001b[0m\u001b[0;34m(\u001b[0m\u001b[0;34m'less'\u001b[0m\u001b[0;34m,\u001b[0m \u001b[0;34m'less'\u001b[0m\u001b[0;34m)\u001b[0m\u001b[0;34m\u001b[0m\u001b[0m\n\u001b[0m",
      "\u001b[0;32m~/Documents/lowrankautoml_yuji/lowrankautoml_execution_copy/automl/util.py\u001b[0m in \u001b[0;36mgenerate_headings\u001b[0;34m(selected_algorithms, selected_hyperparameters)\u001b[0m\n\u001b[1;32m     69\u001b[0m         \u001b[0;31m# how many cases does each of the hyperparameter settings have\u001b[0m\u001b[0;34m\u001b[0m\u001b[0;34m\u001b[0m\u001b[0m\n\u001b[1;32m     70\u001b[0m \u001b[0;34m\u001b[0m\u001b[0m\n\u001b[0;32m---> 71\u001b[0;31m         \u001b[0;32mif\u001b[0m \u001b[0mselected_hyperparameters\u001b[0m \u001b[0;34m==\u001b[0m \u001b[0;34m'default'\u001b[0m\u001b[0;34m:\u001b[0m\u001b[0;34m\u001b[0m\u001b[0m\n\u001b[0m\u001b[1;32m     72\u001b[0m             \u001b[0mselected_hyperparameters\u001b[0m \u001b[0;34m=\u001b[0m \u001b[0mnp\u001b[0m\u001b[0;34m.\u001b[0m\u001b[0marray\u001b[0m\u001b[0;34m(\u001b[0m\u001b[0mall_hyperparameters\u001b[0m\u001b[0;34m)\u001b[0m\u001b[0;34m[\u001b[0m\u001b[0mnp\u001b[0m\u001b[0;34m.\u001b[0m\u001b[0min1d\u001b[0m\u001b[0;34m(\u001b[0m\u001b[0mnp\u001b[0m\u001b[0;34m.\u001b[0m\u001b[0marray\u001b[0m\u001b[0;34m(\u001b[0m\u001b[0mall_algorithms\u001b[0m\u001b[0;34m)\u001b[0m\u001b[0;34m,\u001b[0m \u001b[0mnp\u001b[0m\u001b[0;34m.\u001b[0m\u001b[0marray\u001b[0m\u001b[0;34m(\u001b[0m\u001b[0mselected_algorithms\u001b[0m\u001b[0;34m)\u001b[0m\u001b[0;34m)\u001b[0m\u001b[0;34m]\u001b[0m\u001b[0;34m\u001b[0m\u001b[0m\n\u001b[1;32m     73\u001b[0m \u001b[0;34m\u001b[0m\u001b[0m\n",
      "\u001b[0;31mValueError\u001b[0m: The truth value of an array with more than one element is ambiguous. Use a.any() or a.all()"
     ]
    }
   ],
   "source": [
    "N_CORES = None\n",
    "OUTER_FOLDS = 3\n",
    "\n",
    "RANK = 9\n",
    "ENSEMBLE_CANDIDATES = 5\n",
    "ENSEMBLE_MODELS = 3\n",
    "\n",
    "ERROR_MATRIX = pd.read_csv('default/error_matrix.csv', index_col=0).values\n",
    "N_DATASETS,N_MODELS = ERROR_MATRIX.shape\n",
    "X,Y,Vt = lrm.pca(ERROR_MATRIX)\n",
    "INDICES_QR = lrm.pivoted_qr(Vt)[:RANK]\n",
    "\n",
    "HEADINGS = util.generate_headings('less', 'less')"
   ]
  },
  {
   "cell_type": "code",
   "execution_count": 6,
   "metadata": {},
   "outputs": [
    {
     "name": "stdout",
     "output_type": "stream",
     "text": [
      "<class 'str'>\n"
     ]
    }
   ],
   "source": [
    "a = 'yes'\n",
    "type(a)"
   ]
  },
  {
   "cell_type": "code",
   "execution_count": 4,
   "metadata": {},
   "outputs": [
    {
     "data": {
      "text/plain": [
       "str"
      ]
     },
     "execution_count": 4,
     "metadata": {},
     "output_type": "execute_result"
    }
   ],
   "source": [
    "b = 'no'\n",
    "type(b)"
   ]
  },
  {
   "cell_type": "code",
   "execution_count": null,
   "metadata": {
    "collapsed": true
   },
   "outputs": [],
   "source": [
    "ID = 8\n",
    "DATASET = pd.read_csv('Dataset' + str(ID) + '_Preprocessed.csv', header=None).values\n",
    "FEATURES = DATASET[:,:-1]\n",
    "LABELS = DATASET[:,-1]"
   ]
  },
  {
   "cell_type": "code",
   "execution_count": null,
   "metadata": {
    "collapsed": true
   },
   "outputs": [],
   "source": [
    "kf = KFold(OUTER_FOLDS, shuffle=True)\n",
    "total_error = 0\n",
    "total_time = 0\n",
    "\n",
    "for train, test in kf.split(DATASET):\n",
    "    t_start = time.time()\n",
    "    \n",
    "    x_train = FEATURES[train, :]\n",
    "    y_train = LABELS[train]\n",
    "    \n",
    "    x_test = FEATURES[test, :]\n",
    "    y_test = LABELS[test]"
   ]
  },
  {
   "cell_type": "code",
   "execution_count": null,
   "metadata": {
    "collapsed": true
   },
   "outputs": [],
   "source": [
    "def generate_settings(i):\n",
    "        settings = {'algorithm':HEADINGS[0][i], \n",
    "                        'hyperparameters':{HEADINGS[1][i][j]:HEADINGS[2][i][j] for j in range(len(HEADINGS[1][i]))}}\n",
    "        if list(settings['hyperparameters'].keys())[0] == '':\n",
    "                settings['hyperparameters'] = {}\n",
    "        return settings"
   ]
  },
  {
   "cell_type": "code",
   "execution_count": null,
   "metadata": {
    "collapsed": true
   },
   "outputs": [],
   "source": [
    "def compute_entry(features, labels, index, num_folds, verbose):\n",
    "    settings = generate_settings(index)              \n",
    "    model = Model(settings=settings, num_folds=num_folds, verbose=verbose)\n",
    "    model.fit(features, labels) \n",
    "    return model"
   ]
  },
  {
   "cell_type": "code",
   "execution_count": null,
   "metadata": {
    "collapsed": true
   },
   "outputs": [],
   "source": [
    "newrow = np.zeros((1, N_MODELS))\n",
    "secondlayercolumns = ()\n",
    "base_learners = []\n",
    "\n",
    "print('Fitting QR models...')\n",
    "p1 = mp.Pool(N_CORES)\n",
    "QR_models = [p1.apply_async(compute_entry, args=[x_train, y_train, i, 10, True]) for i in INDICES_QR]\n",
    "p1.close()\n",
    "p1.join()\n",
    "\n",
    "for i, model in enumerate(QR_models):\n",
    "    newrow[:, INDICES_QR[i]] = model.get().error\n",
    "    secondlayercolumns += (model.get().cv_predictions, )\n",
    "    base_learners.append(model.get())\n",
    "    \n",
    "approx = lrm.low_rank_approximation(ERROR_MATRIX, newrow, INDICES_QR)\n",
    "# if true value is computed, replace with low rank approximation or not?\n",
    "# approx[:, INDICES_QR] = newrow[:, INDICES_QR]\n",
    "newrow = np.copy(approx)\n",
    "candidate_idx = newrow[0].argsort()[:ENSEMBLE_CANDIDATES]\n",
    "    \n",
    "print('\\nFitting ensemble candidates...')\n",
    "p2 = mp.Pool(N_CORES)\n",
    "candidate_models = [p2.apply_async(compute_entry, args=[x_train, y_train, i, 10, True]) \n",
    "                    for i in candidate_idx if i not in INDICES_QR]\n",
    "p2.close()\n",
    "p2.join()\n",
    "\n",
    "for i, model in enumerate(candidate_models):\n",
    "    newrow[:, candidate_idx[i]] = model.get().error\n",
    "    secondlayercolumns += (model.get().cv_predictions, )\n",
    "    base_learners.append(model.get())\n",
    "    \n",
    "ensemble_idx = newrow[0].argsort()[:ENSEMBLE_MODELS]\n",
    "optimized_models = [Model(generate_settings(i), 10, True, x_train, y_train)\n",
    "                    for i in ensemble_idx]\n",
    "    \n",
    "print('\\nConducting Bayesian Optimization...')\n",
    "p3 = ProcessingPool(N_CORES)\n",
    "optimized_models = p3.map(Model.bayesian_optimize, optimized_models)\n",
    "p3.close()\n",
    "p3.join()\n",
    "\n",
    "p4 = mp.Pool(N_CORES)\n",
    "boptimized_models = [p4.apply_async(Model.fit, args=(model, x_train, y_train)) \n",
    "                     for model in base_learners[-ENSEMBLE_MODELS:]]\n",
    "p4.close()\n",
    "p4.join()\n",
    "\n",
    "print('\\nFitting optimized models...')\n",
    "for model in boptimized_models:\n",
    "    secondlayercolumns += (model.get().cv_predictions, )\n",
    "    base_learners.append(model.get())\n",
    "    \n",
    "print('\\nFitting stacked learner...')\n",
    "secondlayermatrix = np.matrix.transpose(np.stack(secondlayercolumns))\n",
    "stacked_learner = Model({'algorithm':'Logit', 'hyperparameters':{'C': 1.0, 'penalty': 'l1'}}, \n",
    "                        verbose=True)\n",
    "stacked_learner = stacked_learner.fit(secondlayermatrix, y_train)\n",
    "optimized_stackedlearner = stacked_learner.bayesian_optimize()\n",
    "\n",
    "print('\\nGenerating predictions...')\n",
    "test_secondlayercolumns = ()\n",
    "p5 = mp.Pool(N_CORES)\n",
    "weak_predictions = [p5.apply_async(Model.predict, args=(model, x_test)) for model in base_learners]\n",
    "p5.close()\n",
    "p5.join()\n",
    "\n",
    "for column in weak_predictions:\n",
    "    test_secondlayercolumns += (column.get(), )\n",
    "test_secondlayermatrix = np.matrix.transpose(np.stack(test_secondlayercolumns))\n",
    "predictions = optimized_stackedlearner.predict(test_secondlayermatrix)\n",
    "\n",
    "error = ml.error_calc(y_test, predictions)\n",
    "time = time.time() - t_start\n",
    "\n",
    "total_error += error\n",
    "total_time += time\n",
    "\n",
    "print('\\nDone!')\n",
    "print('Error:', error)"
   ]
  }
 ],
 "metadata": {
  "kernelspec": {
   "display_name": "Python 3",
   "language": "python",
   "name": "python3"
  },
  "language_info": {
   "codemirror_mode": {
    "name": "ipython",
    "version": 3
   },
   "file_extension": ".py",
   "mimetype": "text/x-python",
   "name": "python",
   "nbconvert_exporter": "python",
   "pygments_lexer": "ipython3",
   "version": "3.6.3"
  }
 },
 "nbformat": 4,
 "nbformat_minor": 2
}
