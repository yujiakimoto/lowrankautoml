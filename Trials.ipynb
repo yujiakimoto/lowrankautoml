{
 "cells": [
  {
   "cell_type": "code",
   "execution_count": 1,
   "metadata": {
    "collapsed": true
   },
   "outputs": [],
   "source": [
    "from auto_learner import AutoLearner\n",
    "from ensemble import Ensemble\n",
    "from error_matrix import ErrorMatrix\n",
    "from model import Model"
   ]
  },
  {
   "cell_type": "code",
   "execution_count": 2,
   "metadata": {
    "collapsed": true
   },
   "outputs": [],
   "source": [
    "import pandas as pd\n",
    "import numpy as np\n",
    "from itertools import product\n",
    "import multiprocessing as mp\n",
    "import ML_algorithms as ml"
   ]
  },
  {
   "cell_type": "code",
   "execution_count": 3,
   "metadata": {
    "collapsed": true
   },
   "outputs": [],
   "source": [
    "data = pd.read_csv('Dataset3_Preprocessed.csv', header=None).values\n",
    "features = data[:,0:-1]\n",
    "labels = data[:,-1]"
   ]
  },
  {
   "cell_type": "code",
   "execution_count": 4,
   "metadata": {},
   "outputs": [
    {
     "name": "stdout",
     "output_type": "stream",
     "text": [
      "Logit finished ( 0.75 )(3196, 36)\n",
      "RF finished ( 0.001 )(3196, 36)\n",
      "Logit finished ( 0.5 )(3196, 36)\n",
      "kNN finished ( 1 )(3196, 36)\n",
      "Adaboost finished ( 50 1.0 )(3196, 36)\n",
      "Perceptron finished (3196, 36)\n",
      "LinearSVM finished ( 0.25 )(3196, 36)\n",
      "Logit finished ( 0.25 )(3196, 36)\n",
      "RF finished ( 0.1 )(3196, 36)\n",
      "Logit finished ( 2.0 )(3196, 36)\n",
      "RF finished ( 1e-05 )(3196, 36)\n",
      "RF finished ( 0.01 )(3196, 36)\n",
      "CART finished ( 0.0001 )(3196, 36)\n",
      "LinearSVM finished ( 2.0 )(3196, 36)\n",
      "Adaboost finished ( 50 2.0 )(3196, 36)\n",
      "kNN finished ( 11 )(3196, 36)\n",
      "CART finished ( 0.01 )(3196, 36)\n",
      "# iterations = 2497\n",
      "# iterations = 1890\n",
      "KernelSVM finished ( 0.25 )(3196, 36)\n",
      "RF finished ( 0.001 )(3196, 36)\n",
      "Logit finished ( 2.0 )(3196, 36)\n",
      "KernelSVM finished ( 0.25 )(3196, 36)\n",
      "KernelSVM finished ( 0.1368391733052382 )(3196, 36)\n",
      "KernelSVM finished ( 0.20704758911824356 )(3196, 36)\n",
      "KernelSVM finished ( 0.47047385329460906 )(3196, 36)\n",
      "KernelSVM finished ( 0.3756144124732839 )(3196, 36)\n",
      "KernelSVM finished ( 0.26382032044148235 )(3196, 36)\n",
      "KernelSVM finished ( 0.34250820949179295 )(3196, 36)\n",
      "KernelSVM finished ( 0.1897320899402835 )(3196, 36)\n",
      "KernelSVM finished ( 0.44387682195983175 )(3196, 36)\n",
      "KernelSVM finished ( 0.36302617275146576 )(3196, 36)\n"
     ]
    },
    {
     "name": "stderr",
     "output_type": "stream",
     "text": [
      "Traceback (most recent call last):\n",
      "  File \"/home/hduser1/.local/lib/python3.6/site-packages/pysmac/remote_smac.py\", line 284, in remote_smac_function\n",
      "    config_dict = smac.next_configuration()\n",
      "  File \"/home/hduser1/.local/lib/python3.6/site-packages/pysmac/remote_smac.py\", line 193, in next_configuration\n",
      "    self.__conn, addr = self.__sock.accept()\n",
      "  File \"/home/hduser1/anaconda3/envs/py36/lib/python3.6/socket.py\", line 205, in accept\n",
      "    fd, addr = self._accept()\n",
      "socket.timeout: timed out\n"
     ]
    },
    {
     "name": "stdout",
     "output_type": "stream",
     "text": [
      "RF finished ( 0.001 )(3196, 36)\n",
      "RF finished ( 0.0004125541752582882 )(3196, 36)\n",
      "RF finished ( 0.00226605635272163 )(3196, 36)\n",
      "RF finished ( 0.00922050972697768 )(3196, 36)\n",
      "RF finished ( 0.006716220489294696 )(3196, 36)\n",
      "RF finished ( 0.0037648564596551343 )(3196, 36)\n",
      "RF finished ( 0.005842216730583335 )(3196, 36)\n",
      "RF finished ( 0.0018089271744234853 )(3196, 36)\n",
      "RF finished ( 0.008518348099739557 )(3196, 36)\n",
      "RF finished ( 0.006383890960638698 )(3196, 36)\n"
     ]
    },
    {
     "name": "stderr",
     "output_type": "stream",
     "text": [
      "Traceback (most recent call last):\n",
      "  File \"/home/hduser1/.local/lib/python3.6/site-packages/pysmac/remote_smac.py\", line 284, in remote_smac_function\n",
      "    config_dict = smac.next_configuration()\n",
      "  File \"/home/hduser1/.local/lib/python3.6/site-packages/pysmac/remote_smac.py\", line 193, in next_configuration\n",
      "    self.__conn, addr = self.__sock.accept()\n",
      "  File \"/home/hduser1/anaconda3/envs/py36/lib/python3.6/socket.py\", line 205, in accept\n",
      "    fd, addr = self._accept()\n",
      "socket.timeout: timed out\n"
     ]
    },
    {
     "name": "stdout",
     "output_type": "stream",
     "text": [
      "Logit finished ( 2.0 )(3196, 36)\n",
      "Logit finished ( 1.0947133864419056 )(3196, 36)\n",
      "Logit finished ( 1.6563807129459485 )(3196, 36)\n",
      "Logit finished ( 3.7637908263568725 )(3196, 36)\n",
      "Logit finished ( 3.0049152997862714 )(3196, 36)\n",
      "Logit finished ( 2.110562563531859 )(3196, 36)\n",
      "Logit finished ( 2.7400656759343436 )(3196, 36)\n",
      "Logit finished ( 1.517856719522268 )(3196, 36)\n",
      "Logit finished ( 3.551014575678654 )(3196, 36)\n",
      "Logit finished ( 2.904209382011726 )(3196, 36)\n"
     ]
    },
    {
     "name": "stderr",
     "output_type": "stream",
     "text": [
      "Traceback (most recent call last):\n",
      "  File \"/home/hduser1/.local/lib/python3.6/site-packages/pysmac/remote_smac.py\", line 284, in remote_smac_function\n",
      "    config_dict = smac.next_configuration()\n",
      "  File \"/home/hduser1/.local/lib/python3.6/site-packages/pysmac/remote_smac.py\", line 193, in next_configuration\n",
      "    self.__conn, addr = self.__sock.accept()\n",
      "  File \"/home/hduser1/anaconda3/envs/py36/lib/python3.6/socket.py\", line 205, in accept\n",
      "    fd, addr = self._accept()\n",
      "socket.timeout: timed out\n"
     ]
    },
    {
     "name": "stdout",
     "output_type": "stream",
     "text": [
      "KernelSVM finished ( 0.1368391733052382 )(3196, 36)\n",
      "RF finished ( 0.0004125541752582882 )(3196, 36)\n",
      "Logit finished ( 3.0049152997862714 )(3196, 36)\n",
      "Logit finished ( 1.0 )(3196, 3)\n"
     ]
    }
   ],
   "source": [
    "learner = AutoLearner()\n",
    "learner.fit(features, labels, [])"
   ]
  },
  {
   "cell_type": "code",
   "execution_count": 5,
   "metadata": {},
   "outputs": [
    {
     "data": {
      "text/plain": [
       "0.0077471108228440166"
      ]
     },
     "execution_count": 5,
     "metadata": {},
     "output_type": "execute_result"
    }
   ],
   "source": [
    "ml.error_calc(labels, learner.predict(features))"
   ]
  },
  {
   "cell_type": "code",
   "execution_count": 6,
   "metadata": {},
   "outputs": [
    {
     "data": {
      "text/plain": [
       "0.99249061326658328"
      ]
     },
     "execution_count": 6,
     "metadata": {},
     "output_type": "execute_result"
    }
   ],
   "source": [
    "(labels == learner.predict(features)).sum()/len(labels)"
   ]
  },
  {
   "cell_type": "code",
   "execution_count": 7,
   "metadata": {},
   "outputs": [
    {
     "data": {
      "text/plain": [
       "{'Logit': {'C': 3.0049152997862714},\n",
       " 'RF': {'min_samples_split': 0.0004125541752582882},\n",
       " 'kSVM': {'C': 0.1368391733052382}}"
      ]
     },
     "execution_count": 7,
     "metadata": {},
     "output_type": "execute_result"
    }
   ],
   "source": [
    "learner.ensemble.get_base_learner_params()"
   ]
  },
  {
   "cell_type": "code",
   "execution_count": 8,
   "metadata": {},
   "outputs": [
    {
     "name": "stdout",
     "output_type": "stream",
     "text": [
      "0.0737265118693\n",
      "0.00764816416513\n",
      "0.0328958959868\n"
     ]
    }
   ],
   "source": [
    "for model in learner.ensemble.base_learners:\n",
    "    print(model.error)"
   ]
  }
 ],
 "metadata": {
  "kernelspec": {
   "display_name": "Python [Root]",
   "language": "python",
   "name": "Python [Root]"
  },
  "language_info": {
   "codemirror_mode": {
    "name": "ipython",
    "version": 2
   },
   "file_extension": ".py",
   "mimetype": "text/x-python",
   "name": "python",
   "nbconvert_exporter": "python",
   "pygments_lexer": "ipython2",
   "version": "2.7.13"
  }
 },
 "nbformat": 4,
 "nbformat_minor": 2
}
